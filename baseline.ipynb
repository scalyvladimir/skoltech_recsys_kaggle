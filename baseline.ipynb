{
 "cells": [
  {
   "cell_type": "code",
   "execution_count": 1,
   "id": "b8d8e3f4",
   "metadata": {},
   "outputs": [],
   "source": [
    "%load_ext autoreload\n",
    "%autoreload 2"
   ]
  },
  {
   "cell_type": "code",
   "execution_count": 2,
   "id": "efde0abb",
   "metadata": {},
   "outputs": [],
   "source": [
    "from polara.preprocessing.dataframes import leave_one_out, reindex\n",
    "from evaluation import downvote_seen_items\n",
    "from dataprep import transform_indices\n",
    "\n",
    "import matplotlib.pyplot as plt\n",
    "import seaborn as sns\n",
    " \n",
    "import pandas as pd\n",
    "import numpy as np"
   ]
  },
  {
   "cell_type": "markdown",
   "id": "235b30d4",
   "metadata": {},
   "source": [
    "## Reading data"
   ]
  },
  {
   "cell_type": "code",
   "execution_count": 3,
   "id": "e1976af4",
   "metadata": {},
   "outputs": [],
   "source": [
    "from svd_utils import extend_holdout_with_train"
   ]
  },
  {
   "cell_type": "code",
   "execution_count": 4,
   "id": "8186f208",
   "metadata": {},
   "outputs": [],
   "source": [
    "train, holdout = pd.read_csv('data/train.csv'), pd.read_csv('data/test.csv')"
   ]
  },
  {
   "cell_type": "code",
   "execution_count": 8,
   "id": "0020a10b",
   "metadata": {},
   "outputs": [],
   "source": [
    "holdout = extend_holdout_with_train(train, holdout)"
   ]
  },
  {
   "cell_type": "code",
   "execution_count": 9,
   "id": "7a0ac1a5",
   "metadata": {},
   "outputs": [],
   "source": [
    "from svd_utils import matrix_from_observations, get_data_description"
   ]
  },
  {
   "cell_type": "code",
   "execution_count": 10,
   "id": "31161afa",
   "metadata": {},
   "outputs": [],
   "source": [
    "train, t_data_index = transform_indices(train, 'userid', 'movieid')\n",
    "\n",
    "train_data_description = get_data_description(t_data_index)\n",
    "\n",
    "train_matrix = matrix_from_observations(train, train_data_description)"
   ]
  },
  {
   "cell_type": "code",
   "execution_count": 11,
   "id": "906c1030",
   "metadata": {},
   "outputs": [],
   "source": [
    "holdout, h_data_index = transform_indices(holdout, 'userid', 'movieid')\n",
    "\n",
    "holdout_data_description = get_data_description(h_data_index)\n",
    "\n",
    "holdout_matrix = matrix_from_observations(holdout, holdout_data_description)"
   ]
  },
  {
   "cell_type": "markdown",
   "id": "ff1ed1dc",
   "metadata": {},
   "source": [
    "## PureSVD"
   ]
  },
  {
   "cell_type": "code",
   "execution_count": 12,
   "id": "e9f16d81",
   "metadata": {},
   "outputs": [],
   "source": [
    "from svd_utils import build_svd_model"
   ]
  },
  {
   "cell_type": "code",
   "execution_count": 13,
   "id": "fa78b43a",
   "metadata": {},
   "outputs": [],
   "source": [
    "svd_config = {'rank': 200}\n",
    "\n",
    "V, sigma = svd_params = build_svd_model(svd_config, train, train_data_description)"
   ]
  },
  {
   "cell_type": "code",
   "execution_count": 14,
   "id": "bb83762d",
   "metadata": {},
   "outputs": [
    {
     "data": {
      "image/png": "[encoded data removed]",
      "text/plain": [
       "<Figure size 432x288 with 1 Axes>"
      ]
     },
     "metadata": {
      "needs_background": "light"
     },
     "output_type": "display_data"
    }
   ],
   "source": [
    "pd.Series(sigma).plot(title='Top singular values', xlabel='rank');"
   ]
  },
  {
   "cell_type": "code",
   "execution_count": 15,
   "id": "c7014d84",
   "metadata": {},
   "outputs": [],
   "source": [
    "from svd_utils import svd_model_scoring, simple_model_recom_func"
   ]
  },
  {
   "cell_type": "markdown",
   "id": "0bae7c79",
   "metadata": {},
   "source": [
    "## Evaluation"
   ]
  },
  {
   "cell_type": "code",
   "execution_count": 16,
   "id": "a5ff2c82",
   "metadata": {},
   "outputs": [],
   "source": [
    "svd_scores = svd_model_scoring(svd_params, holdout, holdout_data_description)\n",
    "downvote_seen_items(svd_scores, holdout, holdout_data_description)\n",
    "\n",
    "svd_rec = simple_model_recom_func(svd_scores, topn=20)"
   ]
  },
  {
   "cell_type": "code",
   "execution_count": 17,
   "id": "1e2f644c",
   "metadata": {},
   "outputs": [],
   "source": [
    "from svd_utils import write_ans_to_file"
   ]
  },
  {
   "cell_type": "code",
   "execution_count": null,
   "id": "5df8ed7b",
   "metadata": {},
   "outputs": [],
   "source": [
    "write_ans_to_file(rec_matrix=svd_rec, data_index=t_data_index)"
   ]
  },
  {
   "cell_type": "markdown",
   "id": "92705f92",
   "metadata": {},
   "source": [
    "## Normalized SVD"
   ]
  },
  {
   "cell_type": "code",
   "execution_count": null,
   "id": "8631eba3",
   "metadata": {},
   "outputs": [],
   "source": [
    "from svd_utils import build_normed_svd_model\n",
    "from scipy.sparse import diags\n",
    "import numpy.linalg as nla"
   ]
  },
  {
   "cell_type": "markdown",
   "id": "352d72cf",
   "metadata": {},
   "source": [
    "Received in HW#1"
   ]
  },
  {
   "cell_type": "code",
   "execution_count": null,
   "id": "96a58275",
   "metadata": {},
   "outputs": [],
   "source": [
    "svd_config = {'rank': 320, 'f': 0.5}"
   ]
  },
  {
   "cell_type": "code",
   "execution_count": null,
   "id": "6a1fe19b",
   "metadata": {},
   "outputs": [],
   "source": [
    "tmp=train[['userid', 'movieid', 'rating']].pivot_table(index='userid', columns='movieid', aggfunc=np.sum, fill_value=0, values='rating')\n",
    "\n",
    "svd_config['norm'] = diags([nla.norm(tmp, ord=2, axis=0, keepdims=False) ** (svd_config['f'] - 1.0)], [0])"
   ]
  },
  {
   "cell_type": "code",
   "execution_count": null,
   "id": "cf163a06",
   "metadata": {},
   "outputs": [],
   "source": [
    "V, sigma = svd_params = build_normed_svd_model(svd_config, train, train_data_description)"
   ]
  },
  {
   "cell_type": "code",
   "execution_count": null,
   "id": "b395f195",
   "metadata": {},
   "outputs": [],
   "source": [
    "best_svd_scores = svd_model_scoring(svd_params, holdout, holdout_data_description)\n",
    "downvote_seen_items(best_svd_scores, holdout, holdout_data_description)\n",
    "\n",
    "best_svd_rec = simple_model_recom_func(best_svd_scores, topn=20)"
   ]
  },
  {
   "cell_type": "code",
   "execution_count": null,
   "id": "4f5f17b3",
   "metadata": {},
   "outputs": [],
   "source": [
    "write_ans_to_file(rec_matrix=best_svd_rec, data_index=t_data_index)"
   ]
  }
 ],
 "metadata": {
  "kernelspec": {
   "display_name": "firstEnv",
   "language": "python",
   "name": "firstenv"
  },
  "language_info": {
   "codemirror_mode": {
    "name": "ipython",
    "version": 3
   },
   "file_extension": ".py",
   "mimetype": "text/x-python",
   "name": "python",
   "nbconvert_exporter": "python",
   "pygments_lexer": "ipython3",
   "version": "3.8.8"
  }
 },
 "nbformat": 4,
 "nbformat_minor": 5
}
